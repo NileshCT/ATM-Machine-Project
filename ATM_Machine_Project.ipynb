{
  "nbformat": 4,
  "nbformat_minor": 0,
  "metadata": {
    "colab": {
      "provenance": [],
      "authorship_tag": "ABX9TyNbe5+Yr+CK59nfl4d86sqP",
      "include_colab_link": true
    },
    "kernelspec": {
      "name": "python3",
      "display_name": "Python 3"
    },
    "language_info": {
      "name": "python"
    }
  },
  "cells": [
    {
      "cell_type": "markdown",
      "metadata": {
        "id": "view-in-github",
        "colab_type": "text"
      },
      "source": [
        "<a href=\"https://colab.research.google.com/github/NileshCT/ATM-Machine-Project/blob/main/ATM_Machine_Project.ipynb\" target=\"_parent\"><img src=\"https://colab.research.google.com/assets/colab-badge.svg\" alt=\"Open In Colab\"/></a>"
      ]
    },
    {
      "cell_type": "code",
      "execution_count": null,
      "metadata": {
        "id": "AZe-RVoz4WKw"
      },
      "outputs": [],
      "source": [
        "print=input(\"welcome to the abc bank ATM\")\n",
        "chances=3\n",
        "balance=50000\n",
        "pin=4333\n",
        "while chances!=0:\n",
        "  if user_pin!=pin:\n",
        "    chances-=1\n",
        "    print(\"invalid pin and try agaian\")\n",
        "    print(f\"you have now {chances} left\")\n",
        "  else:\n",
        "    print(\"welcome you can use following survices from our ATM\")\n",
        "    user_input=input(\"B:balance,D:deposite,W:withdraw\")\n",
        "    if user_input==\"B\":\n",
        "      print(f\"you have {balance} in your account\")\n",
        "\n",
        "    if user_input==\"D\":\n",
        "      user_deposite=int(input(\"enter your amount to deposite\"))\n",
        "      total_balance=balance+user_deposite\n",
        "      print(f\"you have {total_balance} in account now\")\n",
        "\n",
        "    if user_input==\"W\":"
      ]
    },
    {
      "cell_type": "code",
      "source": [],
      "metadata": {
        "id": "9Z-yOvl6iKVR"
      },
      "execution_count": null,
      "outputs": []
    }
  ]
}