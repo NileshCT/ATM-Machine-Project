{
  "nbformat": 4,
  "nbformat_minor": 0,
  "metadata": {
    "colab": {
      "provenance": [],
      "authorship_tag": "ABX9TyOes80E+zANGHRhckNY1Orz",
      "include_colab_link": true
    },
    "kernelspec": {
      "name": "python3",
      "display_name": "Python 3"
    },
    "language_info": {
      "name": "python"
    }
  },
  "cells": [
    {
      "cell_type": "markdown",
      "metadata": {
        "id": "view-in-github",
        "colab_type": "text"
      },
      "source": [
        "<a href=\"https://colab.research.google.com/github/NileshCT/ATM-Machine-Project/blob/main/ATM_Machine_Project.ipynb\" target=\"_parent\"><img src=\"https://colab.research.google.com/assets/colab-badge.svg\" alt=\"Open In Colab\"/></a>"
      ]
    },
    {
      "cell_type": "code",
      "source": [
        "chances=3\n",
        "balance=50000\n",
        "pin=4333\n",
        "while chances!=0:\n",
        "  user_pin=int(input(\":enter your 4 digit number\"))\n",
        "  if user_pin!=pin:\n",
        "    print(\"invalid pin try again\")\n",
        "    chances-=1\n",
        "    print(f\"you have {chances} left now\" )\n",
        "  else:\n",
        "    user_choice=input(\"B:balance,D:deposite,W:withdraw\")\n",
        "\n",
        "    if user_choice==\"B\":\n",
        "        print(f\"The your {balance} is now\")\n",
        "\n",
        "    if user_choice==\"D\":\n",
        "        user_deposite=int(input(\"enter your deposting amount\"))\n",
        "        total_balance=balance+user_deposite\n",
        "        print(f\"deposited amaounr{user_deposite} is now\")\n",
        "        print(f\"you have {total_balance} is now\")\n",
        "\n",
        "    if user_choice==\"W\":\n",
        "        user_withdraw=int(input(\"enter your withdrawal amount\"))\n",
        "        total_balance=balance-user_withdraw\n",
        "        print(f\"the withdrawal amount {user_withdraw} is now\")\n",
        "        print(f\"the available {total_balance} is now\")\n",
        "  \n",
        "  user_exit=input(\"would you like to exit\")\n",
        "  if user_exit==\"yes\":\n",
        "    print(\"thank you for visiting\")\n",
        "    break\n",
        "  else:\n",
        "   continue"
      ],
      "metadata": {
        "colab": {
          "base_uri": "https://localhost:8080/",
          "height": 252
        },
        "id": "yqtH3cymoPic",
        "outputId": "168f70bc-1390-4266-875d-bb7a6b0d17e9"
      },
      "execution_count": null,
      "outputs": [
        {
          "name": "stdout",
          "output_type": "stream",
          "text": [
            ":enter your 4 digit number1234\n"
          ]
        },
        {
          "output_type": "error",
          "ename": "TypeError",
          "evalue": "ignored",
          "traceback": [
            "\u001b[0;31m---------------------------------------------------------------------------\u001b[0m",
            "\u001b[0;31mTypeError\u001b[0m                                 Traceback (most recent call last)",
            "\u001b[0;32m<ipython-input-19-cfced29bb9a7>\u001b[0m in \u001b[0;36m<module>\u001b[0;34m\u001b[0m\n\u001b[1;32m      5\u001b[0m   \u001b[0muser_pin\u001b[0m\u001b[0;34m=\u001b[0m\u001b[0mint\u001b[0m\u001b[0;34m(\u001b[0m\u001b[0minput\u001b[0m\u001b[0;34m(\u001b[0m\u001b[0;34m\":enter your 4 digit number\"\u001b[0m\u001b[0;34m)\u001b[0m\u001b[0;34m)\u001b[0m\u001b[0;34m\u001b[0m\u001b[0;34m\u001b[0m\u001b[0m\n\u001b[1;32m      6\u001b[0m   \u001b[0;32mif\u001b[0m \u001b[0muser_pin\u001b[0m\u001b[0;34m!=\u001b[0m\u001b[0mpin\u001b[0m\u001b[0;34m:\u001b[0m\u001b[0;34m\u001b[0m\u001b[0;34m\u001b[0m\u001b[0m\n\u001b[0;32m----> 7\u001b[0;31m     \u001b[0mprint\u001b[0m\u001b[0;34m(\u001b[0m\u001b[0;34m\"invalid pin try again\"\u001b[0m\u001b[0;34m)\u001b[0m\u001b[0;34m\u001b[0m\u001b[0;34m\u001b[0m\u001b[0m\n\u001b[0m\u001b[1;32m      8\u001b[0m     \u001b[0mchances\u001b[0m\u001b[0;34m-=\u001b[0m\u001b[0;36m1\u001b[0m\u001b[0;34m\u001b[0m\u001b[0;34m\u001b[0m\u001b[0m\n\u001b[1;32m      9\u001b[0m     \u001b[0mprint\u001b[0m\u001b[0;34m(\u001b[0m\u001b[0;34mf\"you have {chances} left now\"\u001b[0m \u001b[0;34m)\u001b[0m\u001b[0;34m\u001b[0m\u001b[0;34m\u001b[0m\u001b[0m\n",
            "\u001b[0;31mTypeError\u001b[0m: 'str' object is not callable"
          ]
        }
      ]
    }
  ]
}