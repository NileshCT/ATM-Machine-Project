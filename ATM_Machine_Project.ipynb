{
  "nbformat": 4,
  "nbformat_minor": 0,
  "metadata": {
    "colab": {
      "provenance": [],
      "authorship_tag": "ABX9TyOes80E+zANGHRhckNY1Orz",
      "include_colab_link": true
    },
    "kernelspec": {
      "name": "python3",
      "display_name": "Python 3"
    },
    "language_info": {
      "name": "python"
    }
  },
  "cells": [
    {
      "cell_type": "markdown",
      "metadata": {
        "id": "view-in-github",
        "colab_type": "text"
      },
      "source": [
        "<a href=\"https://colab.research.google.com/github/NileshCT/ATM-Machine-Project/blob/main/ATM_Machine_Project.ipynb\" target=\"_parent\"><img src=\"https://colab.research.google.com/assets/colab-badge.svg\" alt=\"Open In Colab\"/></a>"
      ]
    },
    {
      "cell_type": "code",
      "source": [
        "chances=3\n",
        "balance=50000\n",
        "pin=4333\n",
        "while chances!=0:\n",
        "  user_pin=int(input(\":enter your 4 digit number\"))\n",
        "  if user_pin!=pin:\n",
        "    print(\"invalid pin try again\")\n",
        "    chances-=1\n",
        "    print(f\"you have {chances} left now\" )\n",
        "  else:\n",
        "    user_choice=input(\"B:balance,D:deposite,W:withdraw\")\n",
        "\n",
        "    if user_choice==\"B\":\n",
        "        print(f\"The your {balance} is now\")\n",
        "\n",
        "    if user_choice==\"D\":\n",
        "        user_deposite=int(input(\"enter your deposting amount\"))\n",
        "        total_balance=balance+user_deposite\n",
        "        print(f\"deposited amaounr{user_deposite} is now\")\n",
        "        print(f\"you have {total_balance} is now\")\n",
        "\n",
        "    if user_choice==\"W\":\n",
        "        user_withdraw=int(input(\"enter your withdrawal amount\"))\n",
        "        total_balance=balance-user_withdraw\n",
        "        print(f\"the withdrawal amount {user_withdraw} is now\")\n",
        "        print(f\"the available {total_balance} is now\")\n",
        "  \n",
        "  user_exit=input(\"would you like to exit\")\n",
        "  if user_exit==\"yes\":\n",
        "    print(\"thank you for visiting\")\n",
        "    break\n",
        "  else:\n",
        "   continue"
      ],
      "metadata": {
        "colab": {
          "base_uri": "https://localhost:8080/"
        },
        "id": "yqtH3cymoPic",
        "outputId": "fc52910a-848c-43aa-cfa9-2161b7ff9f98"
      },
      "execution_count": null,
      "outputs": [
        {
          "metadata": {
            "tags": null
          },
          "name": "stdout",
          "output_type": "stream",
          "text": [
            "The your 50000 is now\n",
            "deposited amaounr111 is now\n",
            "you have 50111 is now\n"
          ]
        }
      ]
    }
  ]
}